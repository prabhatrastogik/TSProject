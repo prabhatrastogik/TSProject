{
 "cells": [
  {
   "cell_type": "code",
   "execution_count": 2,
   "id": "552cc25c",
   "metadata": {},
   "outputs": [],
   "source": [
    "from string import Template\n",
    "from functools import wraps\n",
    "\n",
    "import numpy as np\n",
    "import pandas as pd\n",
    "\n",
    "from requests import Session"
   ]
  },
  {
   "cell_type": "code",
   "execution_count": 3,
   "id": "9683bd99",
   "metadata": {},
   "outputs": [],
   "source": [
    "# .env variables / Config Files\n",
    "mode = 'prod' # 'test' or 'prod'\n",
    "\n",
    "URL = {\n",
    "    'test': 'https://sandbox.iexapis.com/stable',\n",
    "    'prod': 'https://cloud.iexapis.com/stable',\n",
    "}\n",
    "\n",
    "PUBLIC_TOKEN = {\n",
    "    'test': 'Tpk_014e57ad96e94b69b9de1f4a987829ff',\n",
    "    'prod': 'pk_5e1051685cca40bdac58b98b417d526d',\n",
    "}\n",
    "\n",
    "SECRET_URL = {\n",
    "    'test': 'Tsk_0c4b8f624f7e4ed2ac36ee422705797f',\n",
    "    'prod': 'sk_c699b92eaee247b7803de8b79727adc3',\n",
    "}"
   ]
  },
  {
   "cell_type": "code",
   "execution_count": 4,
   "id": "fdf4948d",
   "metadata": {},
   "outputs": [],
   "source": [
    "base_url = URL[mode]\n",
    "token_params = {\n",
    "    'token': PUBLIC_TOKEN[mode],\n",
    "}\n",
    "\n",
    "REQUEST_API = {\n",
    "    'exchanges': '/ref-data/exchanges',\n",
    "    'region_scripts': '/ref-data/region/$region/symbols',\n",
    "    'exchange_scripts': '/ref-data/exchange/$exchange/symbols',\n",
    "    'crypto_symbols': '/ref-data/crypto/symbols',\n",
    "    'historical': '/stock/$symbol/chart/$range',\n",
    "}\n",
    "\n",
    "PARAM_DICT = {\n",
    "    'get_historical_olhc_adjusted': {\n",
    "        'chartCloseOnly':'true',\n",
    "    },\n",
    "}"
   ]
  },
  {
   "cell_type": "code",
   "execution_count": 5,
   "id": "fe387596",
   "metadata": {},
   "outputs": [],
   "source": [
    "def get_data(func):\n",
    "    @wraps(func)\n",
    "    def wrapper(*args, **kwargs):\n",
    "        url = func(*args, **kwargs)\n",
    "        specific_params = PARAM_DICT.get(func.__name__,{})\n",
    "        with Session() as s:\n",
    "            r = s.get(url, params={**token_params, **specific_params})\n",
    "            if r.status_code != 200:\n",
    "                raise Exception(f'{r.status_code} error - {r.content}')\n",
    "            return pd.json_normalize(r.json())\n",
    "    return wrapper"
   ]
  },
  {
   "cell_type": "code",
   "execution_count": 6,
   "id": "200e9202",
   "metadata": {},
   "outputs": [],
   "source": [
    "@get_data\n",
    "def get_exchanges():\n",
    "    return base_url + REQUEST_API['exchanges']\n",
    "\n",
    "@get_data\n",
    "def get_crypto_symbols():\n",
    "    return base_url + REQUEST_API['crypto_symbols']\n",
    "\n",
    "@get_data\n",
    "def get_exchange_scripts(exchange_id='nse'):\n",
    "    return base_url + Template(REQUEST_API['exchange_scripts']).substitute(exchange=exchange_id)\n",
    "\n",
    "@get_data\n",
    "def get_region_scripts(region_id='in'):\n",
    "    return base_url + Template(REQUEST_API['region_scripts']).substitute(region=region_id)\n",
    "\n",
    "@get_data\n",
    "def get_historical_olhc_adjusted(symbol):\n",
    "    return base_url + Template(REQUEST_API['historical']).substitute(symbol=symbol, range='max')\n",
    "\n"
   ]
  },
  {
   "cell_type": "code",
   "execution_count": 10,
   "id": "bcc0bbdb",
   "metadata": {},
   "outputs": [],
   "source": [
    "# exchanges = get_exchanges()\n",
    "# exchanges.to_pickle('data/exchange_list_iex.pkl')\n",
    "\n",
    "# crypto = get_crypto_symbols()\n",
    "# crypto.to_pickle('data/crypto_list_iex.pkl')\n",
    "\n",
    "# nse_scripts = get_exchange_scripts(exchange_id='nse')\n",
    "# nse_scripts.to_pickle('data/nse_scripts_iex.pkl')\n"
   ]
  },
  {
   "cell_type": "code",
   "execution_count": 12,
   "id": "42d6e043",
   "metadata": {},
   "outputs": [
    {
     "data": {
      "text/plain": [
       "'E1ABFRLPP-IS'"
      ]
     },
     "execution_count": 12,
     "metadata": {},
     "output_type": "execute_result"
    }
   ],
   "source": [
    "stock1 = pd.read_pickle('data/nse_scripts_iex.pkl').symbol[0]\n",
    "stock1"
   ]
  },
  {
   "cell_type": "code",
   "execution_count": 13,
   "id": "fe8c8c91",
   "metadata": {},
   "outputs": [],
   "source": [
    "stock_data = get_historical_olhc_adjusted(stock1)"
   ]
  },
  {
   "cell_type": "code",
   "execution_count": 20,
   "id": "06e9b53d",
   "metadata": {},
   "outputs": [
    {
     "data": {
      "text/plain": [
       "<AxesSubplot:xlabel='date'>"
      ]
     },
     "execution_count": 20,
     "metadata": {},
     "output_type": "execute_result"
    },
    {
     "data": {
      "image/png": "[encoded data removed]",
      "text/plain": [
       "<Figure size 432x288 with 1 Axes>"
      ]
     },
     "metadata": {
      "needs_background": "light"
     },
     "output_type": "display_data"
    }
   ],
   "source": [
    "stock_data.set_index('date')[['close']].plot()"
   ]
  },
  {
   "cell_type": "code",
   "execution_count": 122,
   "id": "ed29b161",
   "metadata": {},
   "outputs": [],
   "source": [
    "GET = Template(REQUEST_API['historical']).substitute(region='in', exchange='nse', symbol='E1ABFRLPP-IS', range='max')\n",
    "specific_params = {\n",
    "    'chartCloseOnly':'true'\n",
    "}\n",
    "\n",
    "r = requests.get(BASE_URL + GET, params={**token_params, **specific_params})"
   ]
  },
  {
   "cell_type": "code",
   "execution_count": 104,
   "id": "e48d7e32",
   "metadata": {},
   "outputs": [
    {
     "data": {
      "text/plain": [
       "'https://sandbox.iexapis.com/stable/stock/E1ABFRLPP-IS/chart/max?token=Tpk_014e57ad96e94b69b9de1f4a987829ff&chartCloseOnly=true'"
      ]
     },
     "execution_count": 104,
     "metadata": {},
     "output_type": "execute_result"
    }
   ],
   "source": [
    "r.url"
   ]
  },
  {
   "cell_type": "code",
   "execution_count": 105,
   "id": "f9f23d77",
   "metadata": {},
   "outputs": [
    {
     "data": {
      "text/plain": [
       "'https://sandbox.iexapis.com/stable/stock/E1ABFRLPP-IS/chart/max'"
      ]
     },
     "execution_count": 105,
     "metadata": {},
     "output_type": "execute_result"
    }
   ],
   "source": [
    "BASE_URL + GET"
   ]
  },
  {
   "cell_type": "code",
   "execution_count": 106,
   "id": "c8989a0a",
   "metadata": {},
   "outputs": [],
   "source": [
    "exchanges = pd.json_normalize(r.json())"
   ]
  },
  {
   "cell_type": "code",
   "execution_count": 107,
   "id": "a68b8d20",
   "metadata": {},
   "outputs": [
    {
     "data": {
      "text/html": [
       "<div>\n",
       "<style scoped>\n",
       "    .dataframe tbody tr th:only-of-type {\n",
       "        vertical-align: middle;\n",
       "    }\n",
       "\n",
       "    .dataframe tbody tr th {\n",
       "        vertical-align: top;\n",
       "    }\n",
       "\n",
       "    .dataframe thead th {\n",
       "        text-align: right;\n",
       "    }\n",
       "</style>\n",
       "<table border=\"1\" class=\"dataframe\">\n",
       "  <thead>\n",
       "    <tr style=\"text-align: right;\">\n",
       "      <th></th>\n",
       "      <th>date</th>\n",
       "      <th>close</th>\n",
       "      <th>volume</th>\n",
       "      <th>change</th>\n",
       "      <th>changePercent</th>\n",
       "      <th>changeOverTime</th>\n",
       "    </tr>\n",
       "  </thead>\n",
       "  <tbody>\n",
       "    <tr>\n",
       "      <th>0</th>\n",
       "      <td>2020-08-03</td>\n",
       "      <td>63.94</td>\n",
       "      <td>195240</td>\n",
       "      <td>0.000000</td>\n",
       "      <td>0.0000</td>\n",
       "      <td>0.000000</td>\n",
       "    </tr>\n",
       "    <tr>\n",
       "      <th>1</th>\n",
       "      <td>2020-08-04</td>\n",
       "      <td>64.41</td>\n",
       "      <td>147292</td>\n",
       "      <td>0.314886</td>\n",
       "      <td>0.0049</td>\n",
       "      <td>0.004913</td>\n",
       "    </tr>\n",
       "    <tr>\n",
       "      <th>2</th>\n",
       "      <td>2020-08-05</td>\n",
       "      <td>69.50</td>\n",
       "      <td>181318</td>\n",
       "      <td>3.533409</td>\n",
       "      <td>0.0555</td>\n",
       "      <td>0.062370</td>\n",
       "    </tr>\n",
       "    <tr>\n",
       "      <th>3</th>\n",
       "      <td>2020-08-06</td>\n",
       "      <td>69.02</td>\n",
       "      <td>40036</td>\n",
       "      <td>-0.732253</td>\n",
       "      <td>-0.0106</td>\n",
       "      <td>0.050015</td>\n",
       "    </tr>\n",
       "    <tr>\n",
       "      <th>4</th>\n",
       "      <td>2020-08-07</td>\n",
       "      <td>66.97</td>\n",
       "      <td>69186</td>\n",
       "      <td>-0.308066</td>\n",
       "      <td>-0.0047</td>\n",
       "      <td>0.045303</td>\n",
       "    </tr>\n",
       "    <tr>\n",
       "      <th>...</th>\n",
       "      <td>...</td>\n",
       "      <td>...</td>\n",
       "      <td>...</td>\n",
       "      <td>...</td>\n",
       "      <td>...</td>\n",
       "      <td>...</td>\n",
       "    </tr>\n",
       "    <tr>\n",
       "      <th>104</th>\n",
       "      <td>2021-01-01</td>\n",
       "      <td>106.80</td>\n",
       "      <td>53673</td>\n",
       "      <td>-0.780000</td>\n",
       "      <td>-0.0073</td>\n",
       "      <td>0.650429</td>\n",
       "    </tr>\n",
       "    <tr>\n",
       "      <th>105</th>\n",
       "      <td>2021-01-04</td>\n",
       "      <td>105.20</td>\n",
       "      <td>58411</td>\n",
       "      <td>0.104720</td>\n",
       "      <td>0.0010</td>\n",
       "      <td>0.661735</td>\n",
       "    </tr>\n",
       "    <tr>\n",
       "      <th>106</th>\n",
       "      <td>2021-01-05</td>\n",
       "      <td>103.17</td>\n",
       "      <td>97572</td>\n",
       "      <td>-0.780000</td>\n",
       "      <td>-0.0073</td>\n",
       "      <td>0.637286</td>\n",
       "    </tr>\n",
       "    <tr>\n",
       "      <th>107</th>\n",
       "      <td>2021-01-06</td>\n",
       "      <td>101.60</td>\n",
       "      <td>69429</td>\n",
       "      <td>-1.485295</td>\n",
       "      <td>-0.0146</td>\n",
       "      <td>0.598522</td>\n",
       "    </tr>\n",
       "    <tr>\n",
       "      <th>108</th>\n",
       "      <td>2021-02-16</td>\n",
       "      <td>136.80</td>\n",
       "      <td>20893</td>\n",
       "      <td>36.400000</td>\n",
       "      <td>0.3570</td>\n",
       "      <td>1.177607</td>\n",
       "    </tr>\n",
       "  </tbody>\n",
       "</table>\n",
       "<p>109 rows × 6 columns</p>\n",
       "</div>"
      ],
      "text/plain": [
       "           date   close  volume     change  changePercent  changeOverTime\n",
       "0    2020-08-03   63.94  195240   0.000000         0.0000        0.000000\n",
       "1    2020-08-04   64.41  147292   0.314886         0.0049        0.004913\n",
       "2    2020-08-05   69.50  181318   3.533409         0.0555        0.062370\n",
       "3    2020-08-06   69.02   40036  -0.732253        -0.0106        0.050015\n",
       "4    2020-08-07   66.97   69186  -0.308066        -0.0047        0.045303\n",
       "..          ...     ...     ...        ...            ...             ...\n",
       "104  2021-01-01  106.80   53673  -0.780000        -0.0073        0.650429\n",
       "105  2021-01-04  105.20   58411   0.104720         0.0010        0.661735\n",
       "106  2021-01-05  103.17   97572  -0.780000        -0.0073        0.637286\n",
       "107  2021-01-06  101.60   69429  -1.485295        -0.0146        0.598522\n",
       "108  2021-02-16  136.80   20893  36.400000         0.3570        1.177607\n",
       "\n",
       "[109 rows x 6 columns]"
      ]
     },
     "execution_count": 107,
     "metadata": {},
     "output_type": "execute_result"
    }
   ],
   "source": [
    "exchanges"
   ]
  },
  {
   "cell_type": "code",
   "execution_count": null,
   "id": "95bc6df8",
   "metadata": {},
   "outputs": [],
   "source": []
  }
 ],
 "metadata": {
  "kernelspec": {
   "display_name": "Python 3",
   "language": "python",
   "name": "python3"
  },
  "language_info": {
   "codemirror_mode": {
    "name": "ipython",
    "version": 3
   },
   "file_extension": ".py",
   "mimetype": "text/x-python",
   "name": "python",
   "nbconvert_exporter": "python",
   "pygments_lexer": "ipython3",
   "version": "3.9.2"
  }
 },
 "nbformat": 4,
 "nbformat_minor": 5
}
