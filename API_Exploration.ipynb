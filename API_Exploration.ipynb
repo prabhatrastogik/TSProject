{
 "cells": [
  {
   "cell_type": "code",
   "execution_count": 71,
   "id": "87861fb0",
   "metadata": {},
   "outputs": [],
   "source": [
    "import requests\n",
    "import numpy as np\n",
    "import pandas as pd\n",
    "\n",
    "from string import Template"
   ]
  },
  {
   "cell_type": "code",
   "execution_count": 72,
   "id": "5e7fdf53",
   "metadata": {},
   "outputs": [],
   "source": [
    "# .env variables / Config Files\n",
    "mode = 'test' # 'test' or 'prod'\n",
    "\n",
    "URL = {\n",
    "    'test': 'https://sandbox.iexapis.com/stable',\n",
    "    'prod': 'https://cloud.iexapis.com/stable',\n",
    "}\n",
    "\n",
    "PUBLIC_TOKEN = {\n",
    "    'test': 'Tpk_014e57ad96e94b69b9de1f4a987829ff',\n",
    "    'prod': 'pk_5e1051685cca40bdac58b98b417d526d',\n",
    "}\n",
    "\n",
    "SECRET_URL = {\n",
    "    'test': 'Tsk_0c4b8f624f7e4ed2ac36ee422705797f',\n",
    "    'prod': 'sk_c699b92eaee247b7803de8b79727adc3',\n",
    "}"
   ]
  },
  {
   "cell_type": "code",
   "execution_count": 97,
   "id": "d010443f",
   "metadata": {},
   "outputs": [],
   "source": [
    "base_url = URL[mode]\n",
    "token_params = {\n",
    "    'token': PUBLIC_TOKEN[mode],\n",
    "}\n",
    "\n",
    "REQUEST_API = {\n",
    "    'exchanges': '/ref-data/exchanges',\n",
    "    'region_scripts': '/ref-data/region/$region/symbols',\n",
    "    'exchange_scripts': '/ref-data/exchange/$exchange/symbols',\n",
    "    'crypto_symbols': '/ref-data/crypto/symbols',\n",
    "    'historical': '/stock/$symbol/chart/$range',\n",
    "}"
   ]
  },
  {
   "cell_type": "code",
   "execution_count": 108,
   "id": "4d257130",
   "metadata": {},
   "outputs": [],
   "source": [
    "def get_exchanges():\n",
    "    '''This function returns exchanges and their geographies / information.\n",
    "        Cost Per call: 1 \n",
    "        param: None\n",
    "    '''\n",
    "    # Cost 1 per call - cheap"
   ]
  },
  {
   "cell_type": "code",
   "execution_count": 109,
   "id": "49192bde",
   "metadata": {},
   "outputs": [
    {
     "data": {
      "text/plain": [
       "'This function returns exchanges and their geographies / information.\\n        Cost Per call: 1 \\n        param: None\\n    '"
      ]
     },
     "execution_count": 109,
     "metadata": {},
     "output_type": "execute_result"
    }
   ],
   "source": [
    "get_exchanges"
   ]
  },
  {
   "cell_type": "code",
   "execution_count": 103,
   "id": "8071e421",
   "metadata": {},
   "outputs": [],
   "source": [
    "GET = Template(REQUEST_API['historical']).substitute(region='in', exchange='nse', symbol='E1ABFRLPP-IS', range='max')\n",
    "specific_params = {\n",
    "    'chartCloseOnly':'true'\n",
    "}\n",
    "\n",
    "r = requests.get(BASE_URL + GET, params={**token_params, **specific_params})"
   ]
  },
  {
   "cell_type": "code",
   "execution_count": 104,
   "id": "3885a172",
   "metadata": {},
   "outputs": [
    {
     "data": {
      "text/plain": [
       "'https://sandbox.iexapis.com/stable/stock/E1ABFRLPP-IS/chart/max?token=Tpk_014e57ad96e94b69b9de1f4a987829ff&chartCloseOnly=true'"
      ]
     },
     "execution_count": 104,
     "metadata": {},
     "output_type": "execute_result"
    }
   ],
   "source": [
    "r.url"
   ]
  },
  {
   "cell_type": "code",
   "execution_count": 105,
   "id": "d9d03d28",
   "metadata": {},
   "outputs": [
    {
     "data": {
      "text/plain": [
       "'https://sandbox.iexapis.com/stable/stock/E1ABFRLPP-IS/chart/max'"
      ]
     },
     "execution_count": 105,
     "metadata": {},
     "output_type": "execute_result"
    }
   ],
   "source": [
    "BASE_URL + GET"
   ]
  },
  {
   "cell_type": "code",
   "execution_count": 106,
   "id": "a8cc6b9e",
   "metadata": {},
   "outputs": [],
   "source": [
    "exchanges = pd.json_normalize(r.json())"
   ]
  },
  {
   "cell_type": "code",
   "execution_count": 107,
   "id": "c56064c1",
   "metadata": {},
   "outputs": [
    {
     "data": {
      "text/html": [
       "<div>\n",
       "<style scoped>\n",
       "    .dataframe tbody tr th:only-of-type {\n",
       "        vertical-align: middle;\n",
       "    }\n",
       "\n",
       "    .dataframe tbody tr th {\n",
       "        vertical-align: top;\n",
       "    }\n",
       "\n",
       "    .dataframe thead th {\n",
       "        text-align: right;\n",
       "    }\n",
       "</style>\n",
       "<table border=\"1\" class=\"dataframe\">\n",
       "  <thead>\n",
       "    <tr style=\"text-align: right;\">\n",
       "      <th></th>\n",
       "      <th>date</th>\n",
       "      <th>close</th>\n",
       "      <th>volume</th>\n",
       "      <th>change</th>\n",
       "      <th>changePercent</th>\n",
       "      <th>changeOverTime</th>\n",
       "    </tr>\n",
       "  </thead>\n",
       "  <tbody>\n",
       "    <tr>\n",
       "      <th>0</th>\n",
       "      <td>2020-08-03</td>\n",
       "      <td>63.94</td>\n",
       "      <td>195240</td>\n",
       "      <td>0.000000</td>\n",
       "      <td>0.0000</td>\n",
       "      <td>0.000000</td>\n",
       "    </tr>\n",
       "    <tr>\n",
       "      <th>1</th>\n",
       "      <td>2020-08-04</td>\n",
       "      <td>64.41</td>\n",
       "      <td>147292</td>\n",
       "      <td>0.314886</td>\n",
       "      <td>0.0049</td>\n",
       "      <td>0.004913</td>\n",
       "    </tr>\n",
       "    <tr>\n",
       "      <th>2</th>\n",
       "      <td>2020-08-05</td>\n",
       "      <td>69.50</td>\n",
       "      <td>181318</td>\n",
       "      <td>3.533409</td>\n",
       "      <td>0.0555</td>\n",
       "      <td>0.062370</td>\n",
       "    </tr>\n",
       "    <tr>\n",
       "      <th>3</th>\n",
       "      <td>2020-08-06</td>\n",
       "      <td>69.02</td>\n",
       "      <td>40036</td>\n",
       "      <td>-0.732253</td>\n",
       "      <td>-0.0106</td>\n",
       "      <td>0.050015</td>\n",
       "    </tr>\n",
       "    <tr>\n",
       "      <th>4</th>\n",
       "      <td>2020-08-07</td>\n",
       "      <td>66.97</td>\n",
       "      <td>69186</td>\n",
       "      <td>-0.308066</td>\n",
       "      <td>-0.0047</td>\n",
       "      <td>0.045303</td>\n",
       "    </tr>\n",
       "    <tr>\n",
       "      <th>...</th>\n",
       "      <td>...</td>\n",
       "      <td>...</td>\n",
       "      <td>...</td>\n",
       "      <td>...</td>\n",
       "      <td>...</td>\n",
       "      <td>...</td>\n",
       "    </tr>\n",
       "    <tr>\n",
       "      <th>104</th>\n",
       "      <td>2021-01-01</td>\n",
       "      <td>106.80</td>\n",
       "      <td>53673</td>\n",
       "      <td>-0.780000</td>\n",
       "      <td>-0.0073</td>\n",
       "      <td>0.650429</td>\n",
       "    </tr>\n",
       "    <tr>\n",
       "      <th>105</th>\n",
       "      <td>2021-01-04</td>\n",
       "      <td>105.20</td>\n",
       "      <td>58411</td>\n",
       "      <td>0.104720</td>\n",
       "      <td>0.0010</td>\n",
       "      <td>0.661735</td>\n",
       "    </tr>\n",
       "    <tr>\n",
       "      <th>106</th>\n",
       "      <td>2021-01-05</td>\n",
       "      <td>103.17</td>\n",
       "      <td>97572</td>\n",
       "      <td>-0.780000</td>\n",
       "      <td>-0.0073</td>\n",
       "      <td>0.637286</td>\n",
       "    </tr>\n",
       "    <tr>\n",
       "      <th>107</th>\n",
       "      <td>2021-01-06</td>\n",
       "      <td>101.60</td>\n",
       "      <td>69429</td>\n",
       "      <td>-1.485295</td>\n",
       "      <td>-0.0146</td>\n",
       "      <td>0.598522</td>\n",
       "    </tr>\n",
       "    <tr>\n",
       "      <th>108</th>\n",
       "      <td>2021-02-16</td>\n",
       "      <td>136.80</td>\n",
       "      <td>20893</td>\n",
       "      <td>36.400000</td>\n",
       "      <td>0.3570</td>\n",
       "      <td>1.177607</td>\n",
       "    </tr>\n",
       "  </tbody>\n",
       "</table>\n",
       "<p>109 rows × 6 columns</p>\n",
       "</div>"
      ],
      "text/plain": [
       "           date   close  volume     change  changePercent  changeOverTime\n",
       "0    2020-08-03   63.94  195240   0.000000         0.0000        0.000000\n",
       "1    2020-08-04   64.41  147292   0.314886         0.0049        0.004913\n",
       "2    2020-08-05   69.50  181318   3.533409         0.0555        0.062370\n",
       "3    2020-08-06   69.02   40036  -0.732253        -0.0106        0.050015\n",
       "4    2020-08-07   66.97   69186  -0.308066        -0.0047        0.045303\n",
       "..          ...     ...     ...        ...            ...             ...\n",
       "104  2021-01-01  106.80   53673  -0.780000        -0.0073        0.650429\n",
       "105  2021-01-04  105.20   58411   0.104720         0.0010        0.661735\n",
       "106  2021-01-05  103.17   97572  -0.780000        -0.0073        0.637286\n",
       "107  2021-01-06  101.60   69429  -1.485295        -0.0146        0.598522\n",
       "108  2021-02-16  136.80   20893  36.400000         0.3570        1.177607\n",
       "\n",
       "[109 rows x 6 columns]"
      ]
     },
     "execution_count": 107,
     "metadata": {},
     "output_type": "execute_result"
    }
   ],
   "source": [
    "exchanges"
   ]
  },
  {
   "cell_type": "code",
   "execution_count": null,
   "id": "df6203d3",
   "metadata": {},
   "outputs": [],
   "source": []
  }
 ],
 "metadata": {
  "kernelspec": {
   "display_name": "Python 3",
   "language": "python",
   "name": "python3"
  },
  "language_info": {
   "codemirror_mode": {
    "name": "ipython",
    "version": 3
   },
   "file_extension": ".py",
   "mimetype": "text/x-python",
   "name": "python",
   "nbconvert_exporter": "python",
   "pygments_lexer": "ipython3",
   "version": "3.9.2"
  }
 },
 "nbformat": 4,
 "nbformat_minor": 5
}
